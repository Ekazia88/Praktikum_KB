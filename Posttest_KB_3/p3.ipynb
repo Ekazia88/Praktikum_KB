{
 "cells": [
  {
   "cell_type": "code",
   "execution_count": null,
   "metadata": {},
   "outputs": [],
   "source": [
    "import pandas as pd\n",
    "import matplotlib.pyplot as plt\n",
    "import seaborn as sns\n",
    "import numpy as np\n",
    "\n",
    "data = pd.read_csv('player_stats.csv')\n",
    "data['acs'] = pd.to_numeric(data['acs'], errors='coerce', downcast='integer')\n",
    "dataPRX = data[data['team'] =='PRX']\n"
   ]
  },
  {
   "cell_type": "code",
   "execution_count": null,
   "metadata": {},
   "outputs": [],
   "source": [
    "data.head(10)"
   ]
  },
  {
   "cell_type": "code",
   "execution_count": null,
   "metadata": {},
   "outputs": [],
   "source": [
    "dataPRX"
   ]
  },
  {
   "cell_type": "code",
   "execution_count": null,
   "metadata": {},
   "outputs": [],
   "source": [
    "data_rata_rata = dataPRX.groupby('player').mean()\n",
    "data_rata_rata "
   ]
  },
  {
   "cell_type": "code",
   "execution_count": null,
   "metadata": {},
   "outputs": [],
   "source": [
    "x = data_rata_rata.index\n",
    "y= data_rata_rata['acs']\n",
    "\n",
    "plt.bar(x, y, color=['green', 'blue', 'yellow','red'])\n",
    "plt.title('Rata Rata acs dari team PRX' )\n",
    "plt.xlabel('Nama player')\n",
    "plt.xticks(rotation=90)\n",
    "plt.ylabel('panjang rata-rata acs player')\n",
    "plt.show()"
   ]
  },
  {
   "cell_type": "code",
   "execution_count": null,
   "metadata": {},
   "outputs": [],
   "source": [
    "data_rata_rata['acs'].hist(bins=10, figsize=(15, 15), color='red')\n",
    "plt.show()"
   ]
  },
  {
   "cell_type": "code",
   "execution_count": null,
   "metadata": {},
   "outputs": [],
   "source": [
    "data_kemangan_permap = data.groupby(data['map']).size().reset_index(name='Jumlah')\n",
    "datamap = data_kemangan_permap['map']\n",
    "jumlah = data_kemangan_permap['Jumlah'].astype(int)\n",
    "colors = ['lightgreen', 'lightcoral', 'lightblue', 'lightyellow', 'lightpink', 'orange', 'lightsalmon', 'lightcyan']\n",
    "plt.figure(figsize=(8, 8))\n",
    "plt.pie(jumlah, labels=datamap, colors=colors, autopct='%1.1f%%', startangle=140)\n",
    "\n",
    "plt.title('Pie Chart untuk menampilkan seberapa banyak map yg dipick dalam seluruh pertandingan')\n",
    "plt.show()"
   ]
  },
  {
   "cell_type": "code",
   "execution_count": null,
   "metadata": {},
   "outputs": [],
   "source": [
    "dataheatmap = data[['acs','kill','death','assist']]\n",
    "plt.figure(figsize=(10, 6))\n",
    "sns.heatmap(dataheatmap.corr(), annot=True, cmap='coolwarm', linewidths=.5)\n",
    "plt.title('Heatmap Hubungan antara acs,kill,death,assist')\n",
    "plt.show()"
   ]
  },
  {
   "cell_type": "code",
   "execution_count": null,
   "metadata": {},
   "outputs": [],
   "source": [
    "data_demon1 = data[data['player'] == 'Demon1']\n",
    "data_demon1.set_index(data_demon1.index + 1, inplace=True)\n",
    "plt.plot(data_demon1.index, data_demon1['kill'], label='kill', marker='o')\n",
    "plt.show()"
   ]
  }
 ],
 "metadata": {
  "kernelspec": {
   "display_name": "Python 3",
   "language": "python",
   "name": "python3"
  },
  "language_info": {
   "codemirror_mode": {
    "name": "ipython",
    "version": 3
   },
   "file_extension": ".py",
   "mimetype": "text/x-python",
   "name": "python",
   "nbconvert_exporter": "python",
   "pygments_lexer": "ipython3",
   "version": "3.10.7"
  },
  "orig_nbformat": 4
 },
 "nbformat": 4,
 "nbformat_minor": 2
}
